{
 "cells": [
  {
   "cell_type": "code",
   "execution_count": 3,
   "metadata": {},
   "outputs": [
    {
     "data": {
      "text/html": [
       "        <script type=\"text/javascript\">\n",
       "        window.PlotlyConfig = {MathJaxConfig: 'local'};\n",
       "        if (window.MathJax) {MathJax.Hub.Config({SVG: {font: \"STIX-Web\"}});}\n",
       "        if (typeof require !== 'undefined') {\n",
       "        require.undef(\"plotly\");\n",
       "        requirejs.config({\n",
       "            paths: {\n",
       "                'plotly': ['https://cdn.plot.ly/plotly-latest.min']\n",
       "            }\n",
       "        });\n",
       "        require(['plotly'], function(Plotly) {\n",
       "            window._Plotly = Plotly;\n",
       "        });\n",
       "        }\n",
       "        </script>\n",
       "        "
      ]
     },
     "metadata": {},
     "output_type": "display_data"
    }
   ],
   "source": [
    "import keras\n",
    "from keras.layers import Conv2D, Conv3D, Flatten, Dense, Reshape, BatchNormalization\n",
    "from keras.layers import Dropout, Input\n",
    "from keras.models import Model\n",
    "from keras.optimizers import Adam\n",
    "from keras.callbacks import ModelCheckpoint\n",
    "from keras.utils import np_utils\n",
    "\n",
    "from sklearn.decomposition import PCA\n",
    "from sklearn.model_selection import train_test_split\n",
    "from sklearn.metrics import confusion_matrix, accuracy_score, classification_report, cohen_kappa_score\n",
    "\n",
    "from operator import truediv\n",
    "\n",
    "from plotly.offline import init_notebook_mode\n",
    "\n",
    "import numpy as np\n",
    "import matplotlib.pyplot as plt\n",
    "import scipy.io as sio\n",
    "import os\n",
    "import spectral\n",
    "\n",
    "init_notebook_mode(connected=True)\n",
    "%matplotlib inline"
   ]
  },
  {
   "cell_type": "markdown",
   "metadata": {},
   "source": [
    "# Data Loading"
   ]
  },
  {
   "cell_type": "code",
   "execution_count": 4,
   "metadata": {},
   "outputs": [],
   "source": [
    "## GLOBAL VARIABLES\n",
    "dataset = 'IP'\n",
    "test_ratio = 0.7\n",
    "windowSize = 25"
   ]
  },
  {
   "cell_type": "code",
   "execution_count": 5,
   "metadata": {},
   "outputs": [],
   "source": [
    "def loadData(name):\n",
    "    data_path = os.path.join(os.getcwd(),'data')\n",
    "    if name == 'IP':\n",
    "        data = sio.loadmat(os.path.join(data_path, 'Indian_pines_corrected.mat'))['indian_pines_corrected']\n",
    "        labels = sio.loadmat(os.path.join(data_path, 'Indian_pines_gt.mat'))['indian_pines_gt']\n",
    "    elif name == 'SA':\n",
    "        data = sio.loadmat(os.path.join(data_path, 'Salinas_corrected.mat'))['salinas_corrected']\n",
    "        labels = sio.loadmat(os.path.join(data_path, 'Salinas_gt.mat'))['salinas_gt']\n",
    "    elif name == 'PU':\n",
    "        data = sio.loadmat(os.path.join(data_path, 'PaviaU.mat'))['paviaU']\n",
    "        labels = sio.loadmat(os.path.join(data_path, 'PaviaU_gt.mat'))['paviaU_gt']\n",
    "    \n",
    "    return data, labels"
   ]
  },
  {
   "cell_type": "code",
   "execution_count": 6,
   "metadata": {},
   "outputs": [],
   "source": [
    "def splitTrainTestSet(X, y, testRatio, randomState=345):\n",
    "    X_train, X_test, y_train, y_test = train_test_split(X, y, test_size=testRatio, random_state=randomState,\n",
    "                                                        stratify=y)\n",
    "    return X_train, X_test, y_train, y_test"
   ]
  },
  {
   "cell_type": "code",
   "execution_count": 7,
   "metadata": {},
   "outputs": [],
   "source": [
    "def applyPCA(X, numComponents=75):\n",
    "    newX = np.reshape(X, (-1, X.shape[2]))\n",
    "    pca = PCA(n_components=numComponents, whiten=True)\n",
    "    newX = pca.fit_transform(newX)\n",
    "    newX = np.reshape(newX, (X.shape[0],X.shape[1], numComponents))\n",
    "    return newX, pca"
   ]
  },
  {
   "cell_type": "code",
   "execution_count": 8,
   "metadata": {},
   "outputs": [],
   "source": [
    "def padWithZeros(X, margin=2):\n",
    "    newX = np.zeros((X.shape[0] + 2 * margin, X.shape[1] + 2* margin, X.shape[2]))\n",
    "    x_offset = margin\n",
    "    y_offset = margin\n",
    "    newX[x_offset:X.shape[0] + x_offset, y_offset:X.shape[1] + y_offset, :] = X\n",
    "    return newX"
   ]
  },
  {
   "cell_type": "code",
   "execution_count": 9,
   "metadata": {},
   "outputs": [],
   "source": [
    "def createImageCubes(X, y, windowSize=5, removeZeroLabels = True):\n",
    "    margin = int((windowSize - 1) / 2)\n",
    "    zeroPaddedX = padWithZeros(X, margin=margin)\n",
    "    # split patches\n",
    "    patchesData = np.zeros((X.shape[0] * X.shape[1], windowSize, windowSize, X.shape[2]))\n",
    "    patchesLabels = np.zeros((X.shape[0] * X.shape[1]))\n",
    "    patchIndex = 0\n",
    "    for r in range(margin, zeroPaddedX.shape[0] - margin):\n",
    "        for c in range(margin, zeroPaddedX.shape[1] - margin):\n",
    "            patch = zeroPaddedX[r - margin:r + margin + 1, c - margin:c + margin + 1]   \n",
    "            patchesData[patchIndex, :, :, :] = patch\n",
    "            patchesLabels[patchIndex] = y[r-margin, c-margin]\n",
    "            patchIndex = patchIndex + 1\n",
    "    if removeZeroLabels:\n",
    "        patchesData = patchesData[patchesLabels>0,:,:,:]\n",
    "        patchesLabels = patchesLabels[patchesLabels>0]\n",
    "        patchesLabels -= 1\n",
    "    return patchesData, patchesLabels"
   ]
  },
  {
   "cell_type": "code",
   "execution_count": 10,
   "metadata": {},
   "outputs": [
    {
     "data": {
      "text/plain": [
       "((145, 145, 200), (145, 145))"
      ]
     },
     "execution_count": 10,
     "metadata": {},
     "output_type": "execute_result"
    }
   ],
   "source": [
    "X, y = loadData(dataset)\n",
    "\n",
    "X.shape, y.shape"
   ]
  },
  {
   "cell_type": "code",
   "execution_count": 11,
   "metadata": {},
   "outputs": [],
   "source": [
    "K = X.shape[2]"
   ]
  },
  {
   "cell_type": "code",
   "execution_count": 12,
   "metadata": {},
   "outputs": [
    {
     "data": {
      "text/plain": [
       "(145, 145, 30)"
      ]
     },
     "execution_count": 12,
     "metadata": {},
     "output_type": "execute_result"
    }
   ],
   "source": [
    "K = 30 if dataset == 'IP' else 15\n",
    "X,pca = applyPCA(X,numComponents=K)\n",
    "\n",
    "X.shape"
   ]
  },
  {
   "cell_type": "code",
   "execution_count": 13,
   "metadata": {},
   "outputs": [
    {
     "data": {
      "text/plain": [
       "((10249, 25, 25, 30), (10249,))"
      ]
     },
     "execution_count": 13,
     "metadata": {},
     "output_type": "execute_result"
    }
   ],
   "source": [
    "X, y = createImageCubes(X, y, windowSize=windowSize)\n",
    "\n",
    "X.shape, y.shape"
   ]
  },
  {
   "cell_type": "code",
   "execution_count": 14,
   "metadata": {},
   "outputs": [
    {
     "data": {
      "text/plain": [
       "((3074, 25, 25, 30), (7175, 25, 25, 30), (3074,), (7175,))"
      ]
     },
     "execution_count": 14,
     "metadata": {},
     "output_type": "execute_result"
    }
   ],
   "source": [
    "Xtrain, Xtest, ytrain, ytest = splitTrainTestSet(X, y, test_ratio)\n",
    "\n",
    "Xtrain.shape, Xtest.shape, ytrain.shape, ytest.shape"
   ]
  },
  {
   "cell_type": "markdown",
   "metadata": {},
   "source": [
    "Xtrain, Xvalid, ytrain, yvalid = splitTrainTestSet(Xtrain, ytrain, 0.3333)\n",
    "\n",
    "Xtrain.shape, Xvalid.shape, ytrain.shape, yvalid.shape"
   ]
  },
  {
   "cell_type": "markdown",
   "metadata": {},
   "source": [
    "# Model and Training"
   ]
  },
  {
   "cell_type": "code",
   "execution_count": 15,
   "metadata": {},
   "outputs": [
    {
     "data": {
      "text/plain": [
       "(3074, 25, 25, 30, 1)"
      ]
     },
     "execution_count": 15,
     "metadata": {},
     "output_type": "execute_result"
    }
   ],
   "source": [
    "Xtrain = Xtrain.reshape(-1, windowSize, windowSize, K, 1)\n",
    "Xtrain.shape"
   ]
  },
  {
   "cell_type": "code",
   "execution_count": 16,
   "metadata": {},
   "outputs": [
    {
     "data": {
      "text/plain": [
       "(3074, 16)"
      ]
     },
     "execution_count": 16,
     "metadata": {},
     "output_type": "execute_result"
    }
   ],
   "source": [
    "ytrain = np_utils.to_categorical(ytrain)\n",
    "ytrain.shape"
   ]
  },
  {
   "cell_type": "markdown",
   "metadata": {},
   "source": [
    "Xvalid = Xvalid.reshape(-1, windowSize, windowSize, K, 1)\n",
    "Xvalid.shape"
   ]
  },
  {
   "cell_type": "markdown",
   "metadata": {},
   "source": [
    "yvalid = np_utils.to_categorical(yvalid)\n",
    "yvalid.shape"
   ]
  },
  {
   "cell_type": "code",
   "execution_count": 17,
   "metadata": {},
   "outputs": [],
   "source": [
    "S = windowSize\n",
    "L = K\n",
    "output_units = 9 if (dataset == 'PU' or dataset == 'PC') else 16"
   ]
  },
  {
   "cell_type": "code",
   "execution_count": 18,
   "metadata": {},
   "outputs": [
    {
     "name": "stdout",
     "output_type": "stream",
     "text": [
      "(None, 19, 19, 18, 32)\n"
     ]
    }
   ],
   "source": [
    "## input layer\n",
    "input_layer = Input((S, S, L, 1))\n",
    "\n",
    "## convolutional layers\n",
    "conv_layer1 = Conv3D(filters=8, kernel_size=(3, 3, 7), activation='relu')(input_layer)\n",
    "conv_layer2 = Conv3D(filters=16, kernel_size=(3, 3, 5), activation='relu')(conv_layer1)\n",
    "conv_layer3 = Conv3D(filters=32, kernel_size=(3, 3, 3), activation='relu')(conv_layer2)\n",
    "print(conv_layer3._keras_shape)\n",
    "conv3d_shape = conv_layer3._keras_shape\n",
    "conv_layer3 = Reshape((conv3d_shape[1], conv3d_shape[2], conv3d_shape[3]*conv3d_shape[4]))(conv_layer3)\n",
    "conv_layer4 = Conv2D(filters=64, kernel_size=(3,3), activation='relu')(conv_layer3)\n",
    "\n",
    "flatten_layer = Flatten()(conv_layer4)\n",
    "\n",
    "## fully connected layers\n",
    "dense_layer1 = Dense(units=256, activation='relu')(flatten_layer)\n",
    "dense_layer1 = Dropout(0.4)(dense_layer1)\n",
    "dense_layer2 = Dense(units=128, activation='relu')(dense_layer1)\n",
    "dense_layer2 = Dropout(0.4)(dense_layer2)\n",
    "output_layer = Dense(units=output_units, activation='softmax')(dense_layer2)"
   ]
  },
  {
   "cell_type": "code",
   "execution_count": 19,
   "metadata": {},
   "outputs": [],
   "source": [
    "# define the model with input layer and output layer\n",
    "model = Model(inputs=input_layer, outputs=output_layer)"
   ]
  },
  {
   "cell_type": "code",
   "execution_count": 20,
   "metadata": {},
   "outputs": [
    {
     "name": "stdout",
     "output_type": "stream",
     "text": [
      "Model: \"model_1\"\n",
      "_________________________________________________________________\n",
      "Layer (type)                 Output Shape              Param #   \n",
      "=================================================================\n",
      "input_1 (InputLayer)         (None, 25, 25, 30, 1)     0         \n",
      "_________________________________________________________________\n",
      "conv3d_1 (Conv3D)            (None, 23, 23, 24, 8)     512       \n",
      "_________________________________________________________________\n",
      "conv3d_2 (Conv3D)            (None, 21, 21, 20, 16)    5776      \n",
      "_________________________________________________________________\n",
      "conv3d_3 (Conv3D)            (None, 19, 19, 18, 32)    13856     \n",
      "_________________________________________________________________\n",
      "reshape_1 (Reshape)          (None, 19, 19, 576)       0         \n",
      "_________________________________________________________________\n",
      "conv2d_1 (Conv2D)            (None, 17, 17, 64)        331840    \n",
      "_________________________________________________________________\n",
      "flatten_1 (Flatten)          (None, 18496)             0         \n",
      "_________________________________________________________________\n",
      "dense_1 (Dense)              (None, 256)               4735232   \n",
      "_________________________________________________________________\n",
      "dropout_1 (Dropout)          (None, 256)               0         \n",
      "_________________________________________________________________\n",
      "dense_2 (Dense)              (None, 128)               32896     \n",
      "_________________________________________________________________\n",
      "dropout_2 (Dropout)          (None, 128)               0         \n",
      "_________________________________________________________________\n",
      "dense_3 (Dense)              (None, 16)                2064      \n",
      "=================================================================\n",
      "Total params: 5,122,176\n",
      "Trainable params: 5,122,176\n",
      "Non-trainable params: 0\n",
      "_________________________________________________________________\n"
     ]
    }
   ],
   "source": [
    "model.summary()"
   ]
  },
  {
   "cell_type": "code",
   "execution_count": 21,
   "metadata": {},
   "outputs": [],
   "source": [
    "# compiling the model\n",
    "adam = Adam(lr=0.001, decay=1e-06)\n",
    "model.compile(loss='categorical_crossentropy', optimizer=adam, metrics=['accuracy'])"
   ]
  },
  {
   "cell_type": "code",
   "execution_count": 22,
   "metadata": {},
   "outputs": [],
   "source": [
    "# checkpoint\n",
    "filepath = \"best-model.hdf5\"\n",
    "checkpoint = ModelCheckpoint(filepath, monitor='accuracy', verbose=1, save_best_only=True, mode='max')\n",
    "callbacks_list = [checkpoint]"
   ]
  },
  {
   "cell_type": "code",
   "execution_count": 23,
   "metadata": {},
   "outputs": [
    {
     "name": "stdout",
     "output_type": "stream",
     "text": [
      "WARNING:tensorflow:From C:\\Users\\Ujwal\\anaconda3\\lib\\site-packages\\keras\\backend\\tensorflow_backend.py:422: The name tf.global_variables is deprecated. Please use tf.compat.v1.global_variables instead.\n",
      "\n",
      "Epoch 1/50\n",
      "3074/3074 [==============================] - 10s 3ms/step - loss: 2.5781 - accuracy: 0.1714\n",
      "\n",
      "Epoch 00001: accuracy improved from -inf to 0.17144, saving model to best-model.hdf5\n",
      "Epoch 2/50\n",
      "3074/3074 [==============================] - 7s 2ms/step - loss: 1.9909 - accuracy: 0.3250\n",
      "\n",
      "Epoch 00002: accuracy improved from 0.17144 to 0.32498, saving model to best-model.hdf5\n",
      "Epoch 3/50\n",
      "3074/3074 [==============================] - 7s 2ms/step - loss: 1.3564 - accuracy: 0.5543\n",
      "\n",
      "Epoch 00003: accuracy improved from 0.32498 to 0.55433, saving model to best-model.hdf5\n",
      "Epoch 4/50\n",
      "3074/3074 [==============================] - 7s 2ms/step - loss: 0.9249 - accuracy: 0.6874\n",
      "\n",
      "Epoch 00004: accuracy improved from 0.55433 to 0.68738, saving model to best-model.hdf5\n",
      "Epoch 5/50\n",
      "3074/3074 [==============================] - 7s 2ms/step - loss: 0.5692 - accuracy: 0.8165\n",
      "\n",
      "Epoch 00005: accuracy improved from 0.68738 to 0.81653, saving model to best-model.hdf5\n",
      "Epoch 6/50\n",
      "3074/3074 [==============================] - 7s 2ms/step - loss: 0.4763 - accuracy: 0.8647\n",
      "\n",
      "Epoch 00006: accuracy improved from 0.81653 to 0.86467, saving model to best-model.hdf5\n",
      "Epoch 7/50\n",
      "3074/3074 [==============================] - 7s 2ms/step - loss: 0.3594 - accuracy: 0.8881\n",
      "\n",
      "Epoch 00007: accuracy improved from 0.86467 to 0.88809, saving model to best-model.hdf5\n",
      "Epoch 8/50\n",
      "3074/3074 [==============================] - 7s 2ms/step - loss: 0.3164 - accuracy: 0.9053\n",
      "\n",
      "Epoch 00008: accuracy improved from 0.88809 to 0.90534, saving model to best-model.hdf5\n",
      "Epoch 9/50\n",
      "3074/3074 [==============================] - 7s 2ms/step - loss: 0.1692 - accuracy: 0.9519\n",
      "\n",
      "Epoch 00009: accuracy improved from 0.90534 to 0.95185, saving model to best-model.hdf5\n",
      "Epoch 10/50\n",
      "3074/3074 [==============================] - 7s 2ms/step - loss: 0.0992 - accuracy: 0.9723\n",
      "\n",
      "Epoch 00010: accuracy improved from 0.95185 to 0.97235, saving model to best-model.hdf5\n",
      "Epoch 11/50\n",
      "3074/3074 [==============================] - 7s 2ms/step - loss: 0.0829 - accuracy: 0.9779\n",
      "\n",
      "Epoch 00011: accuracy improved from 0.97235 to 0.97788, saving model to best-model.hdf5\n",
      "Epoch 12/50\n",
      "3074/3074 [==============================] - 7s 2ms/step - loss: 0.0829 - accuracy: 0.9763\n",
      "\n",
      "Epoch 00012: accuracy did not improve from 0.97788\n",
      "Epoch 13/50\n",
      "3074/3074 [==============================] - 7s 2ms/step - loss: 0.0646 - accuracy: 0.9824\n",
      "\n",
      "Epoch 00013: accuracy improved from 0.97788 to 0.98243, saving model to best-model.hdf5\n",
      "Epoch 14/50\n",
      "3074/3074 [==============================] - 7s 2ms/step - loss: 0.0450 - accuracy: 0.9863\n",
      "\n",
      "Epoch 00014: accuracy improved from 0.98243 to 0.98634, saving model to best-model.hdf5\n",
      "Epoch 15/50\n",
      "3074/3074 [==============================] - 7s 2ms/step - loss: 0.0407 - accuracy: 0.9870\n",
      "\n",
      "Epoch 00015: accuracy improved from 0.98634 to 0.98699, saving model to best-model.hdf5\n",
      "Epoch 16/50\n",
      "3074/3074 [==============================] - 7s 2ms/step - loss: 0.0310 - accuracy: 0.9899\n",
      "\n",
      "Epoch 00016: accuracy improved from 0.98699 to 0.98992, saving model to best-model.hdf5\n",
      "Epoch 17/50\n",
      "3074/3074 [==============================] - 7s 2ms/step - loss: 0.0404 - accuracy: 0.9896\n",
      "\n",
      "Epoch 00017: accuracy did not improve from 0.98992\n",
      "Epoch 18/50\n",
      "3074/3074 [==============================] - 7s 2ms/step - loss: 0.0246 - accuracy: 0.9922\n",
      "\n",
      "Epoch 00018: accuracy improved from 0.98992 to 0.99219, saving model to best-model.hdf5\n",
      "Epoch 19/50\n",
      "3074/3074 [==============================] - 7s 2ms/step - loss: 0.0261 - accuracy: 0.9899\n",
      "\n",
      "Epoch 00019: accuracy did not improve from 0.99219\n",
      "Epoch 20/50\n",
      "3074/3074 [==============================] - 7s 2ms/step - loss: 0.0256 - accuracy: 0.9912\n",
      "\n",
      "Epoch 00020: accuracy did not improve from 0.99219\n",
      "Epoch 21/50\n",
      "3074/3074 [==============================] - 7s 2ms/step - loss: 0.0234 - accuracy: 0.9948\n",
      "\n",
      "Epoch 00021: accuracy improved from 0.99219 to 0.99480, saving model to best-model.hdf5\n",
      "Epoch 22/50\n",
      "3074/3074 [==============================] - 7s 2ms/step - loss: 0.0249 - accuracy: 0.9938\n",
      "\n",
      "Epoch 00022: accuracy did not improve from 0.99480\n",
      "Epoch 23/50\n",
      "3074/3074 [==============================] - 7s 2ms/step - loss: 0.0243 - accuracy: 0.9941\n",
      "\n",
      "Epoch 00023: accuracy did not improve from 0.99480\n",
      "Epoch 24/50\n",
      "3074/3074 [==============================] - 7s 2ms/step - loss: 0.0181 - accuracy: 0.9945\n",
      "\n",
      "Epoch 00024: accuracy did not improve from 0.99480\n",
      "Epoch 25/50\n",
      "3074/3074 [==============================] - 7s 2ms/step - loss: 0.0139 - accuracy: 0.9958\n",
      "\n",
      "Epoch 00025: accuracy improved from 0.99480 to 0.99577, saving model to best-model.hdf5\n",
      "Epoch 26/50\n",
      "3074/3074 [==============================] - 7s 2ms/step - loss: 0.0146 - accuracy: 0.9961\n",
      "\n",
      "Epoch 00026: accuracy improved from 0.99577 to 0.99610, saving model to best-model.hdf5\n",
      "Epoch 27/50\n",
      "3074/3074 [==============================] - 7s 2ms/step - loss: 0.0126 - accuracy: 0.9951\n",
      "\n",
      "Epoch 00027: accuracy did not improve from 0.99610\n",
      "Epoch 28/50\n",
      "3074/3074 [==============================] - 7s 2ms/step - loss: 0.0273 - accuracy: 0.9915\n",
      "\n",
      "Epoch 00028: accuracy did not improve from 0.99610\n",
      "Epoch 29/50\n",
      "3074/3074 [==============================] - 7s 2ms/step - loss: 0.0213 - accuracy: 0.9935\n",
      "\n",
      "Epoch 00029: accuracy did not improve from 0.99610\n",
      "Epoch 30/50\n",
      "3074/3074 [==============================] - 7s 2ms/step - loss: 0.0225 - accuracy: 0.9932\n",
      "\n",
      "Epoch 00030: accuracy did not improve from 0.99610\n",
      "Epoch 31/50\n",
      "3074/3074 [==============================] - 7s 2ms/step - loss: 0.0217 - accuracy: 0.9928\n",
      "\n",
      "Epoch 00031: accuracy did not improve from 0.99610\n",
      "Epoch 32/50\n",
      "3074/3074 [==============================] - 7s 2ms/step - loss: 0.0133 - accuracy: 0.9948\n",
      "\n",
      "Epoch 00032: accuracy did not improve from 0.99610\n",
      "Epoch 33/50\n",
      "3074/3074 [==============================] - 7s 2ms/step - loss: 0.0174 - accuracy: 0.9964\n",
      "\n",
      "Epoch 00033: accuracy improved from 0.99610 to 0.99642, saving model to best-model.hdf5\n",
      "Epoch 34/50\n",
      "3074/3074 [==============================] - 7s 2ms/step - loss: 0.0097 - accuracy: 0.9961\n",
      "\n",
      "Epoch 00034: accuracy did not improve from 0.99642\n",
      "Epoch 35/50\n",
      "3074/3074 [==============================] - 7s 2ms/step - loss: 0.0086 - accuracy: 0.9974\n",
      "\n",
      "Epoch 00035: accuracy improved from 0.99642 to 0.99740, saving model to best-model.hdf5\n",
      "Epoch 36/50\n",
      "3074/3074 [==============================] - 7s 2ms/step - loss: 0.0160 - accuracy: 0.9948\n",
      "\n",
      "Epoch 00036: accuracy did not improve from 0.99740\n",
      "Epoch 37/50\n",
      "3074/3074 [==============================] - 7s 2ms/step - loss: 0.0091 - accuracy: 0.9980\n",
      "\n",
      "Epoch 00037: accuracy improved from 0.99740 to 0.99805, saving model to best-model.hdf5\n",
      "Epoch 38/50\n",
      "3074/3074 [==============================] - 7s 2ms/step - loss: 0.0100 - accuracy: 0.9974\n",
      "\n",
      "Epoch 00038: accuracy did not improve from 0.99805\n",
      "Epoch 39/50\n",
      "3074/3074 [==============================] - 7s 2ms/step - loss: 0.0066 - accuracy: 0.9971\n",
      "\n",
      "Epoch 00039: accuracy did not improve from 0.99805\n",
      "Epoch 40/50\n",
      "3074/3074 [==============================] - 7s 2ms/step - loss: 0.0103 - accuracy: 0.9974\n",
      "\n",
      "Epoch 00040: accuracy did not improve from 0.99805\n",
      "Epoch 41/50\n",
      "3074/3074 [==============================] - 7s 2ms/step - loss: 0.0083 - accuracy: 0.9967\n",
      "\n",
      "Epoch 00041: accuracy did not improve from 0.99805\n",
      "Epoch 42/50\n",
      "3074/3074 [==============================] - 7s 2ms/step - loss: 0.0139 - accuracy: 0.9974\n",
      "\n",
      "Epoch 00042: accuracy did not improve from 0.99805\n",
      "Epoch 43/50\n",
      "3074/3074 [==============================] - 7s 2ms/step - loss: 0.0094 - accuracy: 0.9974\n",
      "\n",
      "Epoch 00043: accuracy did not improve from 0.99805\n",
      "Epoch 44/50\n",
      "3074/3074 [==============================] - 7s 2ms/step - loss: 0.0098 - accuracy: 0.9964\n",
      "\n",
      "Epoch 00044: accuracy did not improve from 0.99805\n",
      "Epoch 45/50\n",
      "3074/3074 [==============================] - 7s 2ms/step - loss: 0.0112 - accuracy: 0.9964\n",
      "\n",
      "Epoch 00045: accuracy did not improve from 0.99805\n",
      "Epoch 46/50\n",
      "3074/3074 [==============================] - 7s 2ms/step - loss: 0.0036 - accuracy: 0.9993\n",
      "\n",
      "Epoch 00046: accuracy improved from 0.99805 to 0.99935, saving model to best-model.hdf5\n",
      "Epoch 47/50\n"
     ]
    },
    {
     "name": "stdout",
     "output_type": "stream",
     "text": [
      "3074/3074 [==============================] - 7s 2ms/step - loss: 0.0075 - accuracy: 0.9977\n",
      "\n",
      "Epoch 00047: accuracy did not improve from 0.99935\n",
      "Epoch 48/50\n",
      "3074/3074 [==============================] - 7s 2ms/step - loss: 0.0087 - accuracy: 0.9967\n",
      "\n",
      "Epoch 00048: accuracy did not improve from 0.99935\n",
      "Epoch 49/50\n",
      "3074/3074 [==============================] - 7s 2ms/step - loss: 0.0097 - accuracy: 0.9974\n",
      "\n",
      "Epoch 00049: accuracy did not improve from 0.99935\n",
      "Epoch 50/50\n",
      "3074/3074 [==============================] - 7s 2ms/step - loss: 0.0074 - accuracy: 0.9977\n",
      "\n",
      "Epoch 00050: accuracy did not improve from 0.99935\n"
     ]
    }
   ],
   "source": [
    "history = model.fit(x=Xtrain, y=ytrain, batch_size=256, epochs=50, callbacks=callbacks_list)"
   ]
  },
  {
   "cell_type": "code",
   "execution_count": 24,
   "metadata": {},
   "outputs": [
    {
     "data": {
      "image/png": "[encoded data removed]",
      "text/plain": [
       "<Figure size 504x504 with 1 Axes>"
      ]
     },
     "metadata": {
      "needs_background": "light"
     },
     "output_type": "display_data"
    }
   ],
   "source": [
    "plt.figure(figsize=(7,7))\n",
    "plt.grid()\n",
    "plt.plot(history.history['loss'])\n",
    "#plt.plot(history.history['val_loss'])\n",
    "plt.ylabel('Loss')\n",
    "plt.xlabel('Epochs')\n",
    "plt.legend(['Training','Validation'], loc='upper right')\n",
    "plt.savefig(\"loss_curve.pdf\")\n",
    "plt.show()"
   ]
  },
  {
   "cell_type": "code",
   "execution_count": 25,
   "metadata": {},
   "outputs": [
    {
     "data": {
      "text/html": [
       "<div>\n",
       "<style scoped>\n",
       "    .dataframe tbody tr th:only-of-type {\n",
       "        vertical-align: middle;\n",
       "    }\n",
       "\n",
       "    .dataframe tbody tr th {\n",
       "        vertical-align: top;\n",
       "    }\n",
       "\n",
       "    .dataframe thead th {\n",
       "        text-align: right;\n",
       "    }\n",
       "</style>\n",
       "<table border=\"1\" class=\"dataframe\">\n",
       "  <thead>\n",
       "    <tr style=\"text-align: right;\">\n",
       "      <th></th>\n",
       "      <th>loss</th>\n",
       "      <th>accuracy</th>\n",
       "    </tr>\n",
       "  </thead>\n",
       "  <tbody>\n",
       "    <tr>\n",
       "      <th>0</th>\n",
       "      <td>2.578113</td>\n",
       "      <td>0.171438</td>\n",
       "    </tr>\n",
       "    <tr>\n",
       "      <th>1</th>\n",
       "      <td>1.990874</td>\n",
       "      <td>0.324984</td>\n",
       "    </tr>\n",
       "    <tr>\n",
       "      <th>2</th>\n",
       "      <td>1.356374</td>\n",
       "      <td>0.554327</td>\n",
       "    </tr>\n",
       "    <tr>\n",
       "      <th>3</th>\n",
       "      <td>0.924943</td>\n",
       "      <td>0.687378</td>\n",
       "    </tr>\n",
       "    <tr>\n",
       "      <th>4</th>\n",
       "      <td>0.569188</td>\n",
       "      <td>0.816526</td>\n",
       "    </tr>\n",
       "    <tr>\n",
       "      <th>5</th>\n",
       "      <td>0.476302</td>\n",
       "      <td>0.864671</td>\n",
       "    </tr>\n",
       "    <tr>\n",
       "      <th>6</th>\n",
       "      <td>0.359443</td>\n",
       "      <td>0.888094</td>\n",
       "    </tr>\n",
       "    <tr>\n",
       "      <th>7</th>\n",
       "      <td>0.316429</td>\n",
       "      <td>0.905335</td>\n",
       "    </tr>\n",
       "    <tr>\n",
       "      <th>8</th>\n",
       "      <td>0.169250</td>\n",
       "      <td>0.951854</td>\n",
       "    </tr>\n",
       "    <tr>\n",
       "      <th>9</th>\n",
       "      <td>0.099166</td>\n",
       "      <td>0.972349</td>\n",
       "    </tr>\n",
       "    <tr>\n",
       "      <th>10</th>\n",
       "      <td>0.082862</td>\n",
       "      <td>0.977879</td>\n",
       "    </tr>\n",
       "    <tr>\n",
       "      <th>11</th>\n",
       "      <td>0.082924</td>\n",
       "      <td>0.976252</td>\n",
       "    </tr>\n",
       "    <tr>\n",
       "      <th>12</th>\n",
       "      <td>0.064645</td>\n",
       "      <td>0.982433</td>\n",
       "    </tr>\n",
       "    <tr>\n",
       "      <th>13</th>\n",
       "      <td>0.045009</td>\n",
       "      <td>0.986337</td>\n",
       "    </tr>\n",
       "    <tr>\n",
       "      <th>14</th>\n",
       "      <td>0.040699</td>\n",
       "      <td>0.986988</td>\n",
       "    </tr>\n",
       "    <tr>\n",
       "      <th>15</th>\n",
       "      <td>0.031043</td>\n",
       "      <td>0.989915</td>\n",
       "    </tr>\n",
       "    <tr>\n",
       "      <th>16</th>\n",
       "      <td>0.040430</td>\n",
       "      <td>0.989590</td>\n",
       "    </tr>\n",
       "    <tr>\n",
       "      <th>17</th>\n",
       "      <td>0.024599</td>\n",
       "      <td>0.992193</td>\n",
       "    </tr>\n",
       "    <tr>\n",
       "      <th>18</th>\n",
       "      <td>0.026122</td>\n",
       "      <td>0.989915</td>\n",
       "    </tr>\n",
       "    <tr>\n",
       "      <th>19</th>\n",
       "      <td>0.025555</td>\n",
       "      <td>0.991217</td>\n",
       "    </tr>\n",
       "    <tr>\n",
       "      <th>20</th>\n",
       "      <td>0.023351</td>\n",
       "      <td>0.994795</td>\n",
       "    </tr>\n",
       "    <tr>\n",
       "      <th>21</th>\n",
       "      <td>0.024938</td>\n",
       "      <td>0.993819</td>\n",
       "    </tr>\n",
       "    <tr>\n",
       "      <th>22</th>\n",
       "      <td>0.024323</td>\n",
       "      <td>0.994144</td>\n",
       "    </tr>\n",
       "    <tr>\n",
       "      <th>23</th>\n",
       "      <td>0.018053</td>\n",
       "      <td>0.994470</td>\n",
       "    </tr>\n",
       "    <tr>\n",
       "      <th>24</th>\n",
       "      <td>0.013856</td>\n",
       "      <td>0.995771</td>\n",
       "    </tr>\n",
       "    <tr>\n",
       "      <th>25</th>\n",
       "      <td>0.014625</td>\n",
       "      <td>0.996096</td>\n",
       "    </tr>\n",
       "    <tr>\n",
       "      <th>26</th>\n",
       "      <td>0.012588</td>\n",
       "      <td>0.995120</td>\n",
       "    </tr>\n",
       "    <tr>\n",
       "      <th>27</th>\n",
       "      <td>0.027331</td>\n",
       "      <td>0.991542</td>\n",
       "    </tr>\n",
       "    <tr>\n",
       "      <th>28</th>\n",
       "      <td>0.021292</td>\n",
       "      <td>0.993494</td>\n",
       "    </tr>\n",
       "    <tr>\n",
       "      <th>29</th>\n",
       "      <td>0.022500</td>\n",
       "      <td>0.993169</td>\n",
       "    </tr>\n",
       "    <tr>\n",
       "      <th>30</th>\n",
       "      <td>0.021736</td>\n",
       "      <td>0.992843</td>\n",
       "    </tr>\n",
       "    <tr>\n",
       "      <th>31</th>\n",
       "      <td>0.013296</td>\n",
       "      <td>0.994795</td>\n",
       "    </tr>\n",
       "    <tr>\n",
       "      <th>32</th>\n",
       "      <td>0.017413</td>\n",
       "      <td>0.996422</td>\n",
       "    </tr>\n",
       "    <tr>\n",
       "      <th>33</th>\n",
       "      <td>0.009673</td>\n",
       "      <td>0.996096</td>\n",
       "    </tr>\n",
       "    <tr>\n",
       "      <th>34</th>\n",
       "      <td>0.008579</td>\n",
       "      <td>0.997398</td>\n",
       "    </tr>\n",
       "    <tr>\n",
       "      <th>35</th>\n",
       "      <td>0.015958</td>\n",
       "      <td>0.994795</td>\n",
       "    </tr>\n",
       "    <tr>\n",
       "      <th>36</th>\n",
       "      <td>0.009123</td>\n",
       "      <td>0.998048</td>\n",
       "    </tr>\n",
       "    <tr>\n",
       "      <th>37</th>\n",
       "      <td>0.009983</td>\n",
       "      <td>0.997398</td>\n",
       "    </tr>\n",
       "    <tr>\n",
       "      <th>38</th>\n",
       "      <td>0.006577</td>\n",
       "      <td>0.997072</td>\n",
       "    </tr>\n",
       "    <tr>\n",
       "      <th>39</th>\n",
       "      <td>0.010275</td>\n",
       "      <td>0.997398</td>\n",
       "    </tr>\n",
       "    <tr>\n",
       "      <th>40</th>\n",
       "      <td>0.008256</td>\n",
       "      <td>0.996747</td>\n",
       "    </tr>\n",
       "    <tr>\n",
       "      <th>41</th>\n",
       "      <td>0.013900</td>\n",
       "      <td>0.997398</td>\n",
       "    </tr>\n",
       "    <tr>\n",
       "      <th>42</th>\n",
       "      <td>0.009400</td>\n",
       "      <td>0.997398</td>\n",
       "    </tr>\n",
       "    <tr>\n",
       "      <th>43</th>\n",
       "      <td>0.009792</td>\n",
       "      <td>0.996422</td>\n",
       "    </tr>\n",
       "    <tr>\n",
       "      <th>44</th>\n",
       "      <td>0.011203</td>\n",
       "      <td>0.996422</td>\n",
       "    </tr>\n",
       "    <tr>\n",
       "      <th>45</th>\n",
       "      <td>0.003607</td>\n",
       "      <td>0.999349</td>\n",
       "    </tr>\n",
       "    <tr>\n",
       "      <th>46</th>\n",
       "      <td>0.007536</td>\n",
       "      <td>0.997723</td>\n",
       "    </tr>\n",
       "    <tr>\n",
       "      <th>47</th>\n",
       "      <td>0.008664</td>\n",
       "      <td>0.996747</td>\n",
       "    </tr>\n",
       "    <tr>\n",
       "      <th>48</th>\n",
       "      <td>0.009685</td>\n",
       "      <td>0.997398</td>\n",
       "    </tr>\n",
       "    <tr>\n",
       "      <th>49</th>\n",
       "      <td>0.007399</td>\n",
       "      <td>0.997723</td>\n",
       "    </tr>\n",
       "  </tbody>\n",
       "</table>\n",
       "</div>"
      ],
      "text/plain": [
       "        loss  accuracy\n",
       "0   2.578113  0.171438\n",
       "1   1.990874  0.324984\n",
       "2   1.356374  0.554327\n",
       "3   0.924943  0.687378\n",
       "4   0.569188  0.816526\n",
       "5   0.476302  0.864671\n",
       "6   0.359443  0.888094\n",
       "7   0.316429  0.905335\n",
       "8   0.169250  0.951854\n",
       "9   0.099166  0.972349\n",
       "10  0.082862  0.977879\n",
       "11  0.082924  0.976252\n",
       "12  0.064645  0.982433\n",
       "13  0.045009  0.986337\n",
       "14  0.040699  0.986988\n",
       "15  0.031043  0.989915\n",
       "16  0.040430  0.989590\n",
       "17  0.024599  0.992193\n",
       "18  0.026122  0.989915\n",
       "19  0.025555  0.991217\n",
       "20  0.023351  0.994795\n",
       "21  0.024938  0.993819\n",
       "22  0.024323  0.994144\n",
       "23  0.018053  0.994470\n",
       "24  0.013856  0.995771\n",
       "25  0.014625  0.996096\n",
       "26  0.012588  0.995120\n",
       "27  0.027331  0.991542\n",
       "28  0.021292  0.993494\n",
       "29  0.022500  0.993169\n",
       "30  0.021736  0.992843\n",
       "31  0.013296  0.994795\n",
       "32  0.017413  0.996422\n",
       "33  0.009673  0.996096\n",
       "34  0.008579  0.997398\n",
       "35  0.015958  0.994795\n",
       "36  0.009123  0.998048\n",
       "37  0.009983  0.997398\n",
       "38  0.006577  0.997072\n",
       "39  0.010275  0.997398\n",
       "40  0.008256  0.996747\n",
       "41  0.013900  0.997398\n",
       "42  0.009400  0.997398\n",
       "43  0.009792  0.996422\n",
       "44  0.011203  0.996422\n",
       "45  0.003607  0.999349\n",
       "46  0.007536  0.997723\n",
       "47  0.008664  0.996747\n",
       "48  0.009685  0.997398\n",
       "49  0.007399  0.997723"
      ]
     },
     "execution_count": 25,
     "metadata": {},
     "output_type": "execute_result"
    }
   ],
   "source": [
    "import pandas as pd\n",
    "pd.DataFrame(history.history)"
   ]
  },
  {
   "cell_type": "code",
   "execution_count": 26,
   "metadata": {},
   "outputs": [
    {
     "data": {
      "image/png": "[encoded data removed]",
      "text/plain": [
       "<Figure size 360x360 with 1 Axes>"
      ]
     },
     "metadata": {
      "needs_background": "light"
     },
     "output_type": "display_data"
    }
   ],
   "source": [
    "plt.figure(figsize=(5,5))\n",
    "plt.ylim(0,1.1)\n",
    "plt.grid()\n",
    "plt.plot(history.history['accuracy'])\n",
    "#plt.plot(history.history['val_acc'])\n",
    "plt.ylabel('Accuracy')\n",
    "plt.xlabel('Epochs')\n",
    "plt.legend(['Training','Validation'])\n",
    "plt.savefig(\"acc_curve.pdf\")\n",
    "plt.show()"
   ]
  },
  {
   "cell_type": "markdown",
   "metadata": {},
   "source": [
    "# Validation"
   ]
  },
  {
   "cell_type": "code",
   "execution_count": 27,
   "metadata": {},
   "outputs": [],
   "source": [
    "# load best weights\n",
    "model.load_weights(\"best-model.hdf5\")\n",
    "model.compile(loss='categorical_crossentropy', optimizer=adam, metrics=['accuracy'])"
   ]
  },
  {
   "cell_type": "code",
   "execution_count": 28,
   "metadata": {},
   "outputs": [
    {
     "data": {
      "text/plain": [
       "(7175, 25, 25, 30, 1)"
      ]
     },
     "execution_count": 28,
     "metadata": {},
     "output_type": "execute_result"
    }
   ],
   "source": [
    "Xtest = Xtest.reshape(-1, windowSize, windowSize, K, 1)\n",
    "Xtest.shape"
   ]
  },
  {
   "cell_type": "code",
   "execution_count": 29,
   "metadata": {},
   "outputs": [
    {
     "data": {
      "text/plain": [
       "(7175, 16)"
      ]
     },
     "execution_count": 29,
     "metadata": {},
     "output_type": "execute_result"
    }
   ],
   "source": [
    "ytest = np_utils.to_categorical(ytest)\n",
    "ytest.shape"
   ]
  },
  {
   "cell_type": "code",
   "execution_count": 30,
   "metadata": {},
   "outputs": [
    {
     "data": {
      "text/plain": [
       "(7175,)"
      ]
     },
     "execution_count": 30,
     "metadata": {},
     "output_type": "execute_result"
    }
   ],
   "source": [
    "Y_pred_test = model.predict(Xtest)\n",
    "y_pred_test = np.argmax(Y_pred_test, axis=1)\n",
    "y_pred_test.shape"
   ]
  },
  {
   "cell_type": "code",
   "execution_count": 31,
   "metadata": {},
   "outputs": [
    {
     "name": "stdout",
     "output_type": "stream",
     "text": [
      "              precision    recall  f1-score   support\n",
      "\n",
      "           0       0.97      1.00      0.98        32\n",
      "           1       1.00      0.99      1.00      1000\n",
      "           2       1.00      1.00      1.00       581\n",
      "           3       1.00      1.00      1.00       166\n",
      "           4       1.00      1.00      1.00       338\n",
      "           5       0.98      1.00      0.99       511\n",
      "           6       1.00      1.00      1.00        20\n",
      "           7       1.00      1.00      1.00       335\n",
      "           8       0.93      1.00      0.97        14\n",
      "           9       1.00      1.00      1.00       680\n",
      "          10       1.00      1.00      1.00      1719\n",
      "          11       1.00      1.00      1.00       415\n",
      "          12       0.99      1.00      1.00       143\n",
      "          13       1.00      1.00      1.00       886\n",
      "          14       1.00      1.00      1.00       270\n",
      "          15       1.00      1.00      1.00        65\n",
      "\n",
      "    accuracy                           1.00      7175\n",
      "   macro avg       0.99      1.00      1.00      7175\n",
      "weighted avg       1.00      1.00      1.00      7175\n",
      "\n"
     ]
    }
   ],
   "source": [
    "classification = classification_report(np.argmax(ytest, axis=1), y_pred_test)\n",
    "print(classification)"
   ]
  },
  {
   "cell_type": "code",
   "execution_count": 32,
   "metadata": {},
   "outputs": [],
   "source": [
    "def AA_andEachClassAccuracy(confusion_matrix):\n",
    "    counter = confusion_matrix.shape[0]\n",
    "    list_diag = np.diag(confusion_matrix)\n",
    "    list_raw_sum = np.sum(confusion_matrix, axis=1)\n",
    "    each_acc = np.nan_to_num(truediv(list_diag, list_raw_sum))\n",
    "    average_acc = np.mean(each_acc)\n",
    "    return each_acc, average_acc"
   ]
  },
  {
   "cell_type": "code",
   "execution_count": 33,
   "metadata": {},
   "outputs": [],
   "source": [
    "def reports (X_test,y_test,name):\n",
    "    #start = time.time()\n",
    "    Y_pred = model.predict(X_test)\n",
    "    y_pred = np.argmax(Y_pred, axis=1)\n",
    "    #end = time.time()\n",
    "    #print(end - start)\n",
    "    if name == 'IP':\n",
    "        target_names = ['Alfalfa', 'Corn-notill', 'Corn-mintill', 'Corn'\n",
    "                        ,'Grass-pasture', 'Grass-trees', 'Grass-pasture-mowed', \n",
    "                        'Hay-windrowed', 'Oats', 'Soybean-notill', 'Soybean-mintill',\n",
    "                        'Soybean-clean', 'Wheat', 'Woods', 'Buildings-Grass-Trees-Drives',\n",
    "                        'Stone-Steel-Towers']\n",
    "    elif name == 'SA':\n",
    "        target_names = ['Brocoli_green_weeds_1','Brocoli_green_weeds_2','Fallow','Fallow_rough_plow','Fallow_smooth',\n",
    "                        'Stubble','Celery','Grapes_untrained','Soil_vinyard_develop','Corn_senesced_green_weeds',\n",
    "                        'Lettuce_romaine_4wk','Lettuce_romaine_5wk','Lettuce_romaine_6wk','Lettuce_romaine_7wk',\n",
    "                        'Vinyard_untrained','Vinyard_vertical_trellis']\n",
    "    elif name == 'PU':\n",
    "        target_names = ['Asphalt','Meadows','Gravel','Trees', 'Painted metal sheets','Bare Soil','Bitumen',\n",
    "                        'Self-Blocking Bricks','Shadows']\n",
    "    \n",
    "    classification = classification_report(np.argmax(y_test, axis=1), y_pred, target_names=target_names)\n",
    "    oa = accuracy_score(np.argmax(y_test, axis=1), y_pred)\n",
    "    confusion = confusion_matrix(np.argmax(y_test, axis=1), y_pred)\n",
    "    each_acc, aa = AA_andEachClassAccuracy(confusion)\n",
    "    kappa = cohen_kappa_score(np.argmax(y_test, axis=1), y_pred)\n",
    "    score = model.evaluate(X_test, y_test, batch_size=32)\n",
    "    Test_Loss =  score[0]*100\n",
    "    Test_accuracy = score[1]*100\n",
    "    \n",
    "    return classification, confusion, Test_Loss, Test_accuracy, oa*100, each_acc*100, aa*100, kappa*100"
   ]
  },
  {
   "cell_type": "code",
   "execution_count": 34,
   "metadata": {},
   "outputs": [
    {
     "name": "stdout",
     "output_type": "stream",
     "text": [
      "7175/7175 [==============================] - 6s 827us/step\n"
     ]
    }
   ],
   "source": [
    "classification, confusion, Test_loss, Test_accuracy, oa, each_acc, aa, kappa = reports(Xtest,ytest,dataset)\n",
    "classification = str(classification)\n",
    "confusion = str(confusion)\n",
    "file_name = \"classification_report.txt\"\n",
    "\n",
    "with open(file_name, 'w') as x_file:\n",
    "    x_file.write('{} Test loss (%)'.format(Test_loss))\n",
    "    x_file.write('\\n')\n",
    "    x_file.write('{} Test accuracy (%)'.format(Test_accuracy))\n",
    "    x_file.write('\\n')\n",
    "    x_file.write('\\n')\n",
    "    x_file.write('{} Kappa accuracy (%)'.format(kappa))\n",
    "    x_file.write('\\n')\n",
    "    x_file.write('{} Overall accuracy (%)'.format(oa))\n",
    "    x_file.write('\\n')\n",
    "    x_file.write('{} Average accuracy (%)'.format(aa))\n",
    "    x_file.write('\\n')\n",
    "    x_file.write('\\n')\n",
    "    x_file.write('{}'.format(classification))\n",
    "    x_file.write('\\n')\n",
    "    x_file.write('{}'.format(confusion))"
   ]
  },
  {
   "cell_type": "code",
   "execution_count": 35,
   "metadata": {},
   "outputs": [],
   "source": [
    "def Patch(data,height_index,width_index):\n",
    "    height_slice = slice(height_index, height_index+PATCH_SIZE)\n",
    "    width_slice = slice(width_index, width_index+PATCH_SIZE)\n",
    "    patch = data[height_slice, width_slice, :]\n",
    "    \n",
    "    return patch"
   ]
  },
  {
   "cell_type": "code",
   "execution_count": 36,
   "metadata": {},
   "outputs": [],
   "source": [
    "# load the original image\n",
    "X, y = loadData(dataset)"
   ]
  },
  {
   "cell_type": "code",
   "execution_count": 37,
   "metadata": {},
   "outputs": [],
   "source": [
    "height = y.shape[0]\n",
    "width = y.shape[1]\n",
    "PATCH_SIZE = windowSize\n",
    "numComponents = K"
   ]
  },
  {
   "cell_type": "code",
   "execution_count": 38,
   "metadata": {},
   "outputs": [],
   "source": [
    "X,pca = applyPCA(X, numComponents=numComponents)"
   ]
  },
  {
   "cell_type": "code",
   "execution_count": 39,
   "metadata": {},
   "outputs": [],
   "source": [
    "X = padWithZeros(X, PATCH_SIZE//2)"
   ]
  },
  {
   "cell_type": "code",
   "execution_count": 40,
   "metadata": {},
   "outputs": [],
   "source": [
    "# calculate the predicted image\n",
    "outputs = np.zeros((height,width))\n",
    "for i in range(height):\n",
    "    for j in range(width):\n",
    "        target = int(y[i,j])\n",
    "        if target == 0 :\n",
    "            continue\n",
    "        else :\n",
    "            image_patch=Patch(X,i,j)\n",
    "            X_test_image = image_patch.reshape(1,image_patch.shape[0],image_patch.shape[1], image_patch.shape[2], 1).astype('float32')                                   \n",
    "            prediction = (model.predict(X_test_image))\n",
    "            prediction = np.argmax(prediction, axis=1)\n",
    "            outputs[i][j] = prediction+1"
   ]
  },
  {
   "cell_type": "code",
   "execution_count": 41,
   "metadata": {},
   "outputs": [
    {
     "name": "stderr",
     "output_type": "stream",
     "text": [
      "C:\\Users\\Ujwal\\anaconda3\\lib\\site-packages\\spectral\\graphics\\spypylab.py:27: MatplotlibDeprecationWarning:\n",
      "\n",
      "\n",
      "The keymap.all_axes rcparam was deprecated in Matplotlib 3.3 and will be removed two minor releases later.\n",
      "\n",
      "C:\\Users\\Ujwal\\anaconda3\\lib\\site-packages\\spectral\\graphics\\spypylab.py:905: MatplotlibDeprecationWarning:\n",
      "\n",
      "Passing parameters norm and vmin/vmax simultaneously is deprecated since 3.3 and will become an error two minor releases later. Please pass vmin/vmax directly to the norm when creating it.\n",
      "\n"
     ]
    },
    {
     "data": {
      "image/png": "[encoded data removed]",
      "text/plain": [
       "<Figure size 504x504 with 1 Axes>"
      ]
     },
     "metadata": {
      "needs_background": "light"
     },
     "output_type": "display_data"
    }
   ],
   "source": [
    "ground_truth = spectral.imshow(classes = y,figsize =(7,7))"
   ]
  },
  {
   "cell_type": "code",
   "execution_count": 42,
   "metadata": {},
   "outputs": [
    {
     "data": {
      "image/png": "[encoded data removed]",
      "text/plain": [
       "<Figure size 504x504 with 1 Axes>"
      ]
     },
     "metadata": {
      "needs_background": "light"
     },
     "output_type": "display_data"
    }
   ],
   "source": [
    "predict_image = spectral.imshow(classes = outputs.astype(int),figsize =(7,7))"
   ]
  },
  {
   "cell_type": "code",
   "execution_count": 43,
   "metadata": {},
   "outputs": [],
   "source": [
    "spectral.save_rgb(\"predictions.jpg\", outputs.astype(int), colors=spectral.spy_colors)"
   ]
  },
  {
   "cell_type": "markdown",
   "metadata": {},
   "source": [
    "spectral.save_rgb(str(dataset)+\"_ground_truth.jpg\", y, colors=spectral.spy_colors)"
   ]
  }
 ],
 "metadata": {
  "kernelspec": {
   "display_name": "Python 3",
   "language": "python",
   "name": "python3"
  },
  "language_info": {
   "codemirror_mode": {
    "name": "ipython",
    "version": 3
   },
   "file_extension": ".py",
   "mimetype": "text/x-python",
   "name": "python",
   "nbconvert_exporter": "python",
   "pygments_lexer": "ipython3",
   "version": "3.7.0"
  }
 },
 "nbformat": 4,
 "nbformat_minor": 2
}
